{
 "cells": [
  {
   "cell_type": "code",
   "execution_count": 1,
   "id": "fc15f547",
   "metadata": {},
   "outputs": [],
   "source": [
    "import pandas as pd\n",
    "import numpy as np\n",
    "from ollama import chat\n",
    "from ollama import ChatResponse\n",
    "import sys\n",
    "import pprint\n",
    "from tqdm import tqdm\n",
    "from matplotlib import pyplot as plt\n",
    "import json\n",
    "\n",
    "sys.path.append(\"/Users/apurvgandhi/connections-solver/\")\n",
    "import simulator"
   ]
  },
  {
   "cell_type": "code",
   "execution_count": 2,
   "id": "509af2ea",
   "metadata": {},
   "outputs": [],
   "source": [
    "system_prompt = \"\"\"Solve today’s NYT Connections game. Here are the instructions for how to play this game:\n",
    "Find groups of four items that share something in common.\n",
    "\n",
    "Category Examples:\n",
    "FISH: Bass, Flounder, Salmon, Trout\n",
    "FIRE ___: Ant, Drill, Island, Opal\n",
    "\n",
    "Categories will always be more specific than ‘5-LETTER-WORDS,’ ‘NAMES,’ or ‘VERBS.’\n",
    "\n",
    "Example 1:\n",
    "Words: [‘DART’, ‘HEM’, ‘PLEAT’, ‘SEAM’, ‘CAN’, ‘CURE’, ‘DRY’, ‘FREEZE’, ‘BITE’, ‘EDGE’, ‘PUNCH’, ‘SPICE’, ‘CONDO’, ‘HAW’, ‘HERO’, ‘LOO’]\n",
    "Groupings:\n",
    "Things to sew: [‘DART’, ‘HEM’, ‘PLEAT’, ‘SEAM’]\n",
    "Ways to preserve food: [‘CAN’, ‘CURE’, ‘DRY’, ‘FREEZE’]\n",
    "Sharp quality: [‘BITE’, ‘EDGE’, ‘PUNCH’, ‘SPICE’]\n",
    "Birds minus last letter: [‘CONDO’, ‘HAW’, ‘HERO’, ‘LOO’]\n",
    "\n",
    "Example 2:\n",
    "Words: [‘COLLECTIVE’, ‘COMMON’, ‘JOINT’, ‘MUTUAL’, ‘CLEAR’, ‘DRAIN’, ‘EMPTY’, ‘FLUSH’, ‘CIGARETTE’, ‘PENCIL’, ‘TICKET’, ‘TOE’, ‘AMERICAN’, ‘FEVER’, ‘LUCID’, ‘PIPE’]\n",
    "Groupings:\n",
    "Shared: [‘COLLECTIVE’, ‘COMMON’, ‘JOINT’, ‘MUTUAL’]\n",
    "Rid of contents: [‘CLEAR’, ‘DRAIN’, ‘EMPTY’, ‘FLUSH’]\n",
    "Associated with “stub”: [‘CIGARETTE’, ‘PENCIL’, ‘TICKET’, ‘TOE’]\n",
    "__ Dream: [‘AMERICAN’, ‘FEVER’, ‘LUCID’, ‘PIPE’]\n",
    "\n",
    "Example 3:\n",
    "Words: [‘HANGAR’, ‘RUNWAY’, ‘TARMAC’, ‘TERMINAL’, ‘ACTION’, ‘CLAIM’, ‘COMPLAINT’, ‘LAWSUIT’, ‘BEANBAG’, ‘CLUB’, ‘RING’, ‘TORCH’, ‘FOXGLOVE’, ‘GUMSHOE’, ‘TURNCOAT’, ‘WINDSOCK’]\n",
    "Groupings:\n",
    "Parts of an airport: [‘HANGAR’, ‘RUNWAY’, ‘TARMAC’, ‘TERMINAL’]\n",
    "Legal terms: [‘ACTION’, ‘CLAIM’, ‘COMPLAINT’, ‘LAWSUIT’]\n",
    "Things a juggler juggles: [‘BEANBAG’, ‘CLUB’, ‘RING’, ‘TORCH’]\n",
    "Words ending in clothing: [‘FOXGLOVE’, ‘GUMSHOE’, ‘TURNCOAT’, ‘WINDSOCK’]\n",
    "Categories share commonalities:\n",
    "\n",
    "There are 4 categories of 4 words each.\n",
    "Every word will be in only 1 category.\n",
    "One word will never be in two categories.\n",
    "There may be red herrings (words that seem to belong together but actually are in separate categories).\n",
    "There may be compound words with a common prefix or suffix word.\n",
    "A few other common categories include word and letter patterns, pop culture clues (such as music and movie titles), and fill-in-the-blank phrases.\n",
    "You will be given a new example (Example 4) with today’s list of words. First, explain your reason for each category and then give your final answer following the structure below (Replace Category 1, 2, 3, 4 with their names instead):\n",
    "\n",
    "Groupings:\n",
    "Category1: [word1, word2, word3, word4]\n",
    "Category2: [word5, word6, word7, word8]\n",
    "Category3: [word9, word10, word11, word12]\n",
    "Category4: [word13, word14, word15, word16]\n",
    "\n",
    "Remember that the same word cannot be repeated across multiple categories, and you need to output 4 categories with 4 distinct words each. Also, do not make up words not in the list. This is the most important rule. Please obey.\n",
    "All words and explanations must be in English\n",
    "\"\"\"\n",
    "\n",
    "user_prompt=\"\"\"Example 4:\n",
    "Words: {words}\n",
    "Groupings\"\"\""
   ]
  },
  {
   "cell_type": "code",
   "execution_count": 3,
   "id": "e358b015",
   "metadata": {},
   "outputs": [],
   "source": [
    "puzzles = simulator.load_puzzles(\"/Users/apurvgandhi/connections-solver/puzzles.csv\")"
   ]
  },
  {
   "cell_type": "code",
   "execution_count": 14,
   "id": "93f02ede",
   "metadata": {},
   "outputs": [
    {
     "name": "stdout",
     "output_type": "stream",
     "text": [
      "['MUSTARD', 'TARTAR', 'PLUM', 'BLUE', 'GREEN', 'PRIME', 'GLUM', 'RELISH', 'DOWN', 'PEACOCK', 'KETCHUP', 'LOW', 'HULU', 'SCARLET', 'MAYO', 'NETFLIX']\n"
     ]
    }
   ],
   "source": [
    "puzzle_idx = 4\n",
    "sample_words = puzzles[puzzle_idx].all_words\n",
    "print(sample_words)"
   ]
  },
  {
   "cell_type": "code",
   "execution_count": 15,
   "id": "ca0baabd",
   "metadata": {},
   "outputs": [],
   "source": [
    "input_user_prompt = user_prompt.format(words=sample_words)"
   ]
  },
  {
   "cell_type": "code",
   "execution_count": 16,
   "id": "e8ff54bf",
   "metadata": {},
   "outputs": [],
   "source": [
    "from ollama import generate"
   ]
  },
  {
   "cell_type": "code",
   "execution_count": 17,
   "id": "1cf46a55",
   "metadata": {},
   "outputs": [],
   "source": [
    "stream = generate(\n",
    "    model=\"qwq\",\n",
    "    prompt=input_user_prompt,\n",
    "    system=system_prompt,\n",
    "    stream=True,\n",
    "    options={\"temperature\": 0, \"num_predict\": 1024, \"min_p\": 0.05, \"repeat_last_n\": 1024, \"seed\": 0},\n",
    "    context=[],\n",
    "#     format=\"json\"\n",
    ")"
   ]
  },
  {
   "cell_type": "code",
   "execution_count": 18,
   "id": "980c32fa",
   "metadata": {
    "scrolled": false
   },
   "outputs": [
    {
     "name": "stdout",
     "output_type": "stream",
     "text": [
      "Alright, let's dive into this list of words and see if I can find some logical groupings based on shared characteristics. The goal is to create four categories, each containing four words that have something in common. Let's list out the words again to keep them fresh in my mind:\n",
      "\n",
      "['MUSTARD', 'TARTAR', 'PLUM', 'BLUE', 'GREEN', 'PRIME', 'GLUM', 'RELISH', 'DOWN', 'PEACOCK', 'KETCHUP', 'LOW', 'HULU', 'SCARLET', 'MAYO', 'NETFLIX']\n",
      "\n",
      "First, I'll look for any obvious groupings based on food or colors, since those are common categories.\n",
      "\n",
      "Looking at 'MUSTARD', 'TARTAR', 'PLUM', 'BLUE', 'GREEN', 'GLUM', 'RELISH', 'PEACOCK', 'KETCHUP', 'SCARLET', 'MAYO'—I can see some color-related words like 'BLUE', 'GREEN', 'PLUM', 'SCARLET', and 'PEACOCK' (which is known for its colorful feathers). So, maybe one category is about colors or things associated with colors.\n",
      "\n",
      "Let me list potential color-related words:\n",
      "\n",
      "- BLUE\n",
      "\n",
      "- GREEN\n",
      "\n",
      "- PLUM\n",
      "\n",
      "- SCARLET\n",
      "\n",
      "- PEACOCK\n",
      "\n",
      "That's five words, but I need groups of four. Maybe 'PEACOCK' could be in another category based on animals or something else.\n",
      "\n",
      "Another angle could be condiments or food items: 'MUSTARD', 'TARTAR', 'RELISH', 'KETCHUP', 'MAYO'. These all seem like sauces or dressings commonly used in cooking or dining.\n",
      "\n",
      "So, potential food-related group:\n",
      "\n",
      "- MUSTARD\n",
      "\n",
      "- TARTAR\n",
      "\n",
      "- RELISH\n",
      "\n",
      "- KETCHUP\n",
      "\n",
      "- MAYO\n",
      "\n",
      "Again, five words. I might need to exclude one or find another category that some of these fit into.\n",
      "\n",
      "Now, looking at 'PRIME', 'GLUM', 'DOWN', 'LOW'—these seem like they could be related to adjectives describing status or mood.\n",
      "\n",
      "Possible category:\n",
      "\n",
      "- PRIME\n",
      "\n",
      "- GLUM\n",
      "\n",
      "- DOWN\n",
      "\n",
      "- LOW\n",
      "\n",
      "That's four words, which fits nicely.\n",
      "\n",
      "Lastly, 'HULU' and 'NETFLIX' are both streaming services. Maybe 'TARTAR' could fit here if it's a show or something, but I don't think so. Perhaps this is a stretch, but maybe another category involving technology or entertainment.\n",
      "\n",
      "Wait, 'TARTAR' doesn't really fit with streaming services, so maybe that's not the way to go.\n",
      "\n",
      "Alternatively, perhaps another color-based category or something else entirely.\n",
      "\n",
      "Let me try to solidify the categories I've tentatively identified:\n",
      "\n",
      "1. Colors and color-associated items:\n",
      "\n",
      "- BLUE\n",
      "\n",
      "- GREEN\n",
      "\n",
      "- PLUM\n",
      "\n",
      "- SCARLET\n",
      "\n",
      "2. Food condiments:\n",
      "\n",
      "- MUSTARD\n",
      "\n",
      "- RELISH\n",
      "\n",
      "- KETCHUP\n",
      "\n",
      "- MAYO\n",
      "\n",
      "3. Adjectives describing status or mood:\n",
      "\n",
      "- PRIME\n",
      "\n",
      "- GLUM\n",
      "\n",
      "- DOWN\n",
      "\n",
      "- LOW\n",
      "\n",
      "4. Streaming services:\n",
      "\n",
      "- HULU\n",
      "\n",
      "- NETFLIX\n",
      "\n",
      "But I have 'TARTAR', 'PEACOCK', and 'PLUM' still needing placement. Wait, 'PLUM' is already in the colors category, assuming it refers to the color plum. But 'PLUM' is also a type of fruit, which could fit into the food category. Hmm.\n",
      "\n",
      "Maybe I need to reconsider the categorization.\n",
      "\n",
      "Option to move 'PLUM' to the food category:\n",
      "\n",
      "- MUSTARD\n",
      "\n",
      "- TARTAR\n",
      "\n",
      "- PLUM\n",
      "\n",
      "- RELISH\n",
      "\n",
      "- KETCHUP\n",
      "\n",
      "- MAYO\n",
      "\n",
      "Then, colors would be:\n",
      "\n",
      "- BLUE\n",
      "\n",
      "- GREEN\n",
      "\n",
      "- SCARLET\n",
      "\n",
      "- PEACOCK\n",
      "\n",
      "But 'PEACOCK' is more about the bird than the color; it's known for its colorful feathers, but it's not a color itself. So, perhaps that needs to go elsewhere.\n",
      "\n",
      "Alternative category for 'PEACOCK':\n",
      "\n",
      "- Birds or animals?\n",
      "\n",
      "- 'PEACOCK', 'PLUM' (if considering plumage), but 'PLUM' as a fruit doesn't fit.\n",
      "\n",
      "This is getting tricky.\n",
      "\n",
      "Let me consider another approach. Maybe look for word patterns or prefixes/suffixes.\n",
      "\n",
      "Looking at the words:\n",
      "\n",
      "- MUSTARD, TARTAR, PLUM, BLUE, GREEN, PRIME, GLUM, RELISH, DOWN, PEACOCK, KETCHUP, LOW, HULU, SCARLET, MAYO, NETFLIX\n",
      "\n",
      "Some words have similar suffixes or prefixes. For example, 'mustard' and 'ketchup' end with '-ard' and '-echup', but that seems forced.\n",
      "\n",
      "Wait, 'glum' and 'plum' rhyme, but that might not be a meaningful category unless there's a pattern.\n",
      "\n",
      "Another idea: words that are types"
     ]
    }
   ],
   "source": [
    "res = \"\"\n",
    "for chunk in stream:\n",
    "    resp = chunk['response']\n",
    "    res += resp\n",
    "    print(resp, end='', flush=True)"
   ]
  },
  {
   "cell_type": "code",
   "execution_count": 22,
   "id": "00d5ce1f",
   "metadata": {},
   "outputs": [],
   "source": [
    "system_prompt2 = \"\"\"\n",
    "You are a helpful assistant who identifies 4 categories each containing 4 words from the input text.\n",
    "There are 4 categories of 4 words each.\n",
    "Every word will be in only 1 category.\n",
    "One word will never be in two categories.\n",
    "\n",
    "You will be given an input text with reasoning. First, explain your reason for each category and then give your final answer as JSON following the structure below (Replace Category 1, 2, 3, 4 with their names instead):\n",
    "\n",
    "Groupings:\n",
    "Category1: [word1, word2, word3, word4]\n",
    "Category2: [word5, word6, word7, word8]\n",
    "Category3: [word9, word10, word11, word12]\n",
    "Category4: [word13, word14, word15, word16]\n",
    "\"\"\"\n",
    "\n",
    "input_prompt2 = \"\"\"\n",
    "{res}\n",
    "\n",
    "Groupings:\n",
    "\"\"\""
   ]
  },
  {
   "cell_type": "code",
   "execution_count": 34,
   "id": "c730fdfb",
   "metadata": {},
   "outputs": [],
   "source": [
    "stream2 = generate(\n",
    "    model=\"qwq\",\n",
    "    prompt=input_prompt2.format(res=res),\n",
    "    system=system_prompt2,\n",
    "    stream=False,\n",
    "    options={\"temperature\": 0, \"num_predict\": 1024, \"min_p\": 0.05, \"repeat_last_n\": 1024, \"seed\": 0},\n",
    "    context=[],\n",
    "    format=\"json\"\n",
    ")"
   ]
  },
  {
   "cell_type": "code",
   "execution_count": 37,
   "id": "6a6cf916",
   "metadata": {},
   "outputs": [
    {
     "data": {
      "text/plain": [
       "dict_values([{'Colors': ['BLUE', 'GREEN', 'PLUM', 'SCARLET'], 'Food Condiments': ['MUSTARD', 'RELISH', 'KETCHUP', 'MAYO'], 'Status Adjectives': ['PRIME', 'GLUM', 'DOWN', 'LOW'], 'Streaming Services': ['HULU', 'NETFLIX']}])"
      ]
     },
     "execution_count": 37,
     "metadata": {},
     "output_type": "execute_result"
    }
   ],
   "source": [
    "json.loads(stream2[\"response\"]).values()"
   ]
  },
  {
   "cell_type": "code",
   "execution_count": 25,
   "id": "36835e91",
   "metadata": {},
   "outputs": [
    {
     "ename": "TypeError",
     "evalue": "string indices must be integers",
     "output_type": "error",
     "traceback": [
      "\u001b[0;31m---------------------------------------------------------------------------\u001b[0m",
      "\u001b[0;31mTypeError\u001b[0m                                 Traceback (most recent call last)",
      "Input \u001b[0;32mIn [25]\u001b[0m, in \u001b[0;36m<cell line: 1>\u001b[0;34m()\u001b[0m\n\u001b[0;32m----> 1\u001b[0m outputs \u001b[38;5;241m=\u001b[39m json\u001b[38;5;241m.\u001b[39mloads(\u001b[43mresp\u001b[49m\u001b[43m[\u001b[49m\u001b[38;5;124;43m\"\u001b[39;49m\u001b[38;5;124;43mresponse\u001b[39;49m\u001b[38;5;124;43m\"\u001b[39;49m\u001b[43m]\u001b[49m)\u001b[38;5;241m.\u001b[39mvalues()\n\u001b[1;32m      2\u001b[0m \u001b[38;5;28mlist\u001b[39m(\u001b[38;5;28mlist\u001b[39m(outputs)[\u001b[38;5;241m0\u001b[39m]\u001b[38;5;241m.\u001b[39mvalues())\n",
      "\u001b[0;31mTypeError\u001b[0m: string indices must be integers"
     ]
    }
   ],
   "source": [
    "outputs = json.loads(resp[\"response\"]).values()\n",
    "list(list(outputs)[0].values())"
   ]
  },
  {
   "cell_type": "code",
   "execution_count": null,
   "id": "b797ae6a",
   "metadata": {},
   "outputs": [],
   "source": [
    "raw_response = json.loads(stream2[\"response\"])\n",
    "print(raw_response)\n",
    "outputs = raw_response.values()\n",
    "output_list = list(list(outputs)[0].values())"
   ]
  },
  {
   "cell_type": "code",
   "execution_count": null,
   "id": "0df013ae",
   "metadata": {},
   "outputs": [],
   "source": [
    "output_list"
   ]
  },
  {
   "cell_type": "code",
   "execution_count": null,
   "id": "e31340ae",
   "metadata": {},
   "outputs": [],
   "source": []
  },
  {
   "cell_type": "code",
   "execution_count": null,
   "id": "3b12dd57",
   "metadata": {},
   "outputs": [],
   "source": [
    "outputs = []\n",
    "outputs.append(json.loads(stream2[\"response\"])[\"categories\"]"
   ]
  },
  {
   "cell_type": "code",
   "execution_count": null,
   "id": "e78b0373",
   "metadata": {},
   "outputs": [],
   "source": []
  }
 ],
 "metadata": {
  "kernelspec": {
   "display_name": "Python 3 (ipykernel)",
   "language": "python",
   "name": "python3"
  },
  "language_info": {
   "codemirror_mode": {
    "name": "ipython",
    "version": 3
   },
   "file_extension": ".py",
   "mimetype": "text/x-python",
   "name": "python",
   "nbconvert_exporter": "python",
   "pygments_lexer": "ipython3",
   "version": "3.8.12"
  }
 },
 "nbformat": 4,
 "nbformat_minor": 5
}
