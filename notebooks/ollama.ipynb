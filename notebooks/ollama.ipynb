{
 "cells": [
  {
   "cell_type": "code",
   "execution_count": 1,
   "id": "ec530402",
   "metadata": {},
   "outputs": [],
   "source": [
    "import pandas as pd\n",
    "import numpy as np\n",
    "from ollama import chat\n",
    "from ollama import ChatResponse\n",
    "import sys\n",
    "import pprint\n",
    "from tqdm import tqdm\n",
    "from matplotlib import pyplot as plt\n",
    "import json\n",
    "\n",
    "sys.path.append(\"/Users/apurvgandhi/connections-solver/\")\n",
    "import simulator"
   ]
  },
  {
   "cell_type": "code",
   "execution_count": 2,
   "id": "6913075b",
   "metadata": {},
   "outputs": [],
   "source": [
    "system_prompt = \"\"\"Solve today’s NYT Connections game. Here are the instructions for how to play this game:\n",
    "Find groups of four items that share something in common.\n",
    "\n",
    "Category Examples:\n",
    "FISH: Bass, Flounder, Salmon, Trout\n",
    "FIRE ___: Ant, Drill, Island, Opal\n",
    "\n",
    "Categories will always be more specific than ‘5-LETTER-WORDS,’ ‘NAMES,’ or ‘VERBS.’\n",
    "\n",
    "Example 1:\n",
    "Words: [‘DART’, ‘HEM’, ‘PLEAT’, ‘SEAM’, ‘CAN’, ‘CURE’, ‘DRY’, ‘FREEZE’, ‘BITE’, ‘EDGE’, ‘PUNCH’, ‘SPICE’, ‘CONDO’, ‘HAW’, ‘HERO’, ‘LOO’]\n",
    "Groupings:\n",
    "Things to sew: [‘DART’, ‘HEM’, ‘PLEAT’, ‘SEAM’]\n",
    "Ways to preserve food: [‘CAN’, ‘CURE’, ‘DRY’, ‘FREEZE’]\n",
    "Sharp quality: [‘BITE’, ‘EDGE’, ‘PUNCH’, ‘SPICE’]\n",
    "Birds minus last letter: [‘CONDO’, ‘HAW’, ‘HERO’, ‘LOO’]\n",
    "\n",
    "Example 2:\n",
    "Words: [‘COLLECTIVE’, ‘COMMON’, ‘JOINT’, ‘MUTUAL’, ‘CLEAR’, ‘DRAIN’, ‘EMPTY’, ‘FLUSH’, ‘CIGARETTE’, ‘PENCIL’, ‘TICKET’, ‘TOE’, ‘AMERICAN’, ‘FEVER’, ‘LUCID’, ‘PIPE’]\n",
    "Groupings:\n",
    "Shared: [‘COLLECTIVE’, ‘COMMON’, ‘JOINT’, ‘MUTUAL’]\n",
    "Rid of contents: [‘CLEAR’, ‘DRAIN’, ‘EMPTY’, ‘FLUSH’]\n",
    "Associated with “stub”: [‘CIGARETTE’, ‘PENCIL’, ‘TICKET’, ‘TOE’]\n",
    "__ Dream: [‘AMERICAN’, ‘FEVER’, ‘LUCID’, ‘PIPE’]\n",
    "\n",
    "Example 3:\n",
    "Words: [‘HANGAR’, ‘RUNWAY’, ‘TARMAC’, ‘TERMINAL’, ‘ACTION’, ‘CLAIM’, ‘COMPLAINT’, ‘LAWSUIT’, ‘BEANBAG’, ‘CLUB’, ‘RING’, ‘TORCH’, ‘FOXGLOVE’, ‘GUMSHOE’, ‘TURNCOAT’, ‘WINDSOCK’]\n",
    "Groupings:\n",
    "Parts of an airport: [‘HANGAR’, ‘RUNWAY’, ‘TARMAC’, ‘TERMINAL’]\n",
    "Legal terms: [‘ACTION’, ‘CLAIM’, ‘COMPLAINT’, ‘LAWSUIT’]\n",
    "Things a juggler juggles: [‘BEANBAG’, ‘CLUB’, ‘RING’, ‘TORCH’]\n",
    "Words ending in clothing: [‘FOXGLOVE’, ‘GUMSHOE’, ‘TURNCOAT’, ‘WINDSOCK’]\n",
    "Categories share commonalities:\n",
    "\n",
    "There are 4 categories of 4 words each.\n",
    "Every word will be in only 1 category.\n",
    "One word will never be in two categories.\n",
    "There may be red herrings (words that seem to belong together but actually are in separate categories).\n",
    "There may be compound words with a common prefix or suffix word.\n",
    "A few other common categories include word and letter patterns, pop culture clues (such as music and movie titles), and fill-in-the-blank phrases.\n",
    "You will be given a new example (Example 4) with today’s list of words. First, explain your reason for each category and then give your final answer following the structure below (Replace Category 1, 2, 3, 4 with their names instead):\n",
    "\n",
    "Groupings:\n",
    "Category1: [word1, word2, word3, word4]\n",
    "Category2: [word5, word6, word7, word8]\n",
    "Category3: [word9, word10, word11, word12]\n",
    "Category4: [word13, word14, word15, word16]\n",
    "\n",
    "Remember that the same word cannot be repeated across multiple categories, and you need to output 4 categories with 4 distinct words each. Also, do not make up words not in the list. This is the most important rule. Please obey.\n",
    "All words and explanations must be in English\n",
    "\"\"\"\n",
    "\n",
    "user_prompt=\"\"\"Example 4:\n",
    "Words: {words}\n",
    "Groupings\"\"\""
   ]
  },
  {
   "cell_type": "code",
   "execution_count": 3,
   "id": "a25b40f5",
   "metadata": {},
   "outputs": [],
   "source": [
    "puzzles = simulator.load_puzzles(\"/Users/apurvgandhi/connections-solver/puzzles.csv\")"
   ]
  },
  {
   "cell_type": "code",
   "execution_count": 6,
   "id": "68728ef2",
   "metadata": {},
   "outputs": [
    {
     "name": "stdout",
     "output_type": "stream",
     "text": [
      "['SNOW', 'LEVEL', 'SHIFT', 'KAYAK', 'HEAT', 'TAB', 'BUCKS', 'RETURN', 'JAZZ', 'HAIL', 'OPTION', 'RAIN', 'SLEET', 'RACECAR', 'MOM', 'NETS']\n"
     ]
    }
   ],
   "source": [
    "puzzle_idx = 0\n",
    "sample_words = puzzles[puzzle_idx].all_words\n",
    "print(sample_words)"
   ]
  },
  {
   "cell_type": "code",
   "execution_count": 5,
   "id": "a7e18525",
   "metadata": {},
   "outputs": [
    {
     "name": "stdout",
     "output_type": "stream",
     "text": [
      "['WOODSTOCK', 'GAMBIT', 'NEW YORK', 'GIANT', 'QUEEN', \"ROCK 'N ROLL\", 'WOLF', 'CHARLIE', 'YOU', 'PEPPERMINT PATTY', 'MATE', 'PRINCESS', 'PIGPEN', 'WITCH', 'LUCY', 'BISHOP']\n",
      "96\n"
     ]
    }
   ],
   "source": [
    "for i in range(100):\n",
    "    sample_words = puzzles[i].all_words\n",
    "    if \"WITCH\" in sample_words:\n",
    "        print(sample_words)\n",
    "        print(i)\n",
    "        break"
   ]
  },
  {
   "cell_type": "code",
   "execution_count": 7,
   "id": "5b70e002",
   "metadata": {},
   "outputs": [],
   "source": [
    "input_user_prompt = user_prompt.format(words=sample_words)"
   ]
  },
  {
   "cell_type": "code",
   "execution_count": 8,
   "id": "2b1b7194",
   "metadata": {},
   "outputs": [],
   "source": [
    "from ollama import generate"
   ]
  },
  {
   "cell_type": "code",
   "execution_count": 14,
   "id": "5e8c7c0a",
   "metadata": {},
   "outputs": [],
   "source": [
    "stream = generate(\n",
    "    model=\"qwq\",\n",
    "    prompt=input_user_prompt,\n",
    "    system=system_prompt,\n",
    "    stream=True,\n",
    "    options={\"temperature\": 1, \"num_predict\": 1024, \"min_p\": 0.05, \"repeat_last_n\": 1024, \"seed\": 0},\n",
    "    context=[],\n",
    "    format=\"json\"\n",
    ")"
   ]
  },
  {
   "cell_type": "code",
   "execution_count": 15,
   "id": "839527db",
   "metadata": {
    "scrolled": false
   },
   "outputs": [
    {
     "name": "stdout",
     "output_type": "stream",
     "text": [
      "{\n",
      "    \"categories\": [\n",
      "        {\n",
      "            \"name\": \"Palindromes\",\n",
      "            \"words\": [\"KAYAK\", \"RACECAR\", \"MOM\"]\n",
      "        },\n",
      "        {\n",
      "            \"name\": \"Weather Conditions\",\n",
      "            \"words\": [\"SNOW\", \"HEAT\", \"HAIL\", \"RAIN\", \"SLEET\"]\n",
      "        },\n",
      "        {\n",
      "            \"name\": \"Financial Terms\",\n",
      "            \"words\": [\"LEVEL\", \"SHIFT\", \"TAB\", \"BUCKS\", \"RETURN\"]\n",
      "        },\n",
      "        {\n",
      "            \"name\": \"Music Genres\",\n",
      "            \"words\": [\"JAZZ\"]\n",
      "        }\n",
      "    ],\n",
      "    \"explanation\": \"I've identified four main categories based on the given words. First, I noticed that some words are palindromes, meaning they read the same forwards and backwards. These include 'KAYAK', 'RACECAR', and 'MOM'. Second, several words relate to weather conditions, such as 'SNOW', 'HEAT', 'HAIL', 'RAIN', and 'SLEET'. Third, there are terms related to finance, including 'LEVEL', 'SHIFT', 'TAB', 'BUCKS', and 'RETURN'. Lastly, 'JAZZ' stands out as a music genre. However, since categories need to have four words each, I might need to adjust some groupings or find additional connections.\"\n",
      "}"
     ]
    }
   ],
   "source": [
    "res = \"\"\n",
    "for chunk in stream:\n",
    "    resp = chunk['response']\n",
    "    res += resp\n",
    "    print(resp, end='', flush=True)"
   ]
  },
  {
   "cell_type": "code",
   "execution_count": 11,
   "id": "182fa5a3",
   "metadata": {},
   "outputs": [],
   "source": [
    "system_prompt2 = \"\"\"\n",
    "You are a helpful assistant who identifies 4 categories each containing 4 words from the input text.\n",
    "There are 4 categories of 4 words each.\n",
    "Every word will be in only 1 category.\n",
    "One word will never be in two categories.\n",
    "\n",
    "You will be given an input text with reasoning. First, explain your reason for each category and then give your final answer as JSON following the structure below (Replace Category 1, 2, 3, 4 with their names instead):\n",
    "\n",
    "Groupings:\n",
    "Category1: [word1, word2, word3, word4]\n",
    "Category2: [word5, word6, word7, word8]\n",
    "Category3: [word9, word10, word11, word12]\n",
    "Category4: [word13, word14, word15, word16]\n",
    "\n",
    "Remember that the same word cannot be repeated across multiple categories, and you need to output 4 categories with 4 distinct words each. Also, do not make up words not in the list. This is the most important rule. Please obey.\n",
    "\"\"\"\n",
    "\n",
    "input_prompt2 = \"\"\"\n",
    "{res}\n",
    "\n",
    "Groupings:\n",
    "\"\"\""
   ]
  },
  {
   "cell_type": "code",
   "execution_count": 12,
   "id": "aa81ccbf",
   "metadata": {},
   "outputs": [],
   "source": [
    "stream2 = generate(\n",
    "    model=\"llama3.2\",\n",
    "    prompt=input_prompt2.format(res=res),\n",
    "    system=system_prompt2,\n",
    "    stream=False,\n",
    "    options={\"temperature\": 0, \"num_predict\": 1024, \"min_p\": 0.05, \"repeat_last_n\": 1024, \"seed\": 0},\n",
    "    context=[],\n",
    "    format=\"json\"\n",
    ")"
   ]
  },
  {
   "cell_type": "code",
   "execution_count": 13,
   "id": "dd396f19",
   "metadata": {},
   "outputs": [
    {
     "data": {
      "text/plain": [
       "dict_values([{'Category1': ['SNOW', 'HAIL', 'RAIN', 'SLEET'], 'Category2': ['LEVEL', 'KAYAK', 'RACECAR', 'MOM'], 'Category3': ['SHIFT', 'RETURN', 'OPTION', 'TAB'], 'Category4': ['BUCKS', 'JAZZ', 'NETS', 'HEAT']}])"
      ]
     },
     "execution_count": 13,
     "metadata": {},
     "output_type": "execute_result"
    }
   ],
   "source": [
    "json.loads(stream2[\"response\"]).values()"
   ]
  },
  {
   "cell_type": "code",
   "execution_count": null,
   "id": "777b923a",
   "metadata": {},
   "outputs": [],
   "source": [
    "json.loads(stream2[\"response\"]).values()"
   ]
  },
  {
   "cell_type": "code",
   "execution_count": null,
   "id": "3d70cabd",
   "metadata": {},
   "outputs": [],
   "source": [
    "raw_response = json.loads(stream2[\"response\"])\n",
    "print(raw_response)\n",
    "outputs = raw_response.values()\n",
    "output_list = list(list(outputs)[0].values())"
   ]
  },
  {
   "cell_type": "code",
   "execution_count": null,
   "id": "cff85d5f",
   "metadata": {},
   "outputs": [],
   "source": [
    "output_list"
   ]
  },
  {
   "cell_type": "code",
   "execution_count": null,
   "id": "f77db3d8",
   "metadata": {},
   "outputs": [],
   "source": []
  },
  {
   "cell_type": "code",
   "execution_count": null,
   "id": "08ad767c",
   "metadata": {},
   "outputs": [],
   "source": [
    "outputs = []\n",
    "outputs.append(json.loads(stream2[\"response\"])[\"categories\"]"
   ]
  },
  {
   "cell_type": "code",
   "execution_count": null,
   "id": "1fb5f6c8",
   "metadata": {},
   "outputs": [],
   "source": []
  }
 ],
 "metadata": {
  "kernelspec": {
   "display_name": "Python 3 (ipykernel)",
   "language": "python",
   "name": "python3"
  },
  "language_info": {
   "codemirror_mode": {
    "name": "ipython",
    "version": 3
   },
   "file_extension": ".py",
   "mimetype": "text/x-python",
   "name": "python",
   "nbconvert_exporter": "python",
   "pygments_lexer": "ipython3",
   "version": "3.8.12"
  }
 },
 "nbformat": 4,
 "nbformat_minor": 5
}
